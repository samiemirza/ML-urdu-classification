{
 "cells": [
  {
   "cell_type": "markdown",
   "metadata": {},
   "source": [
    "<h1> <strong> <center> Model 2: Logistic Regression </center> </strong>  </h1> \n",
    "\n",
    "Our second model preprocesses and classifies a dataset of Urdu-language text articles using both a manual implementation of Logisitic Regression and Scikit-learn's version of the model. The dataset is split and evaluated in the same manner as it was in the implementation of our first model. The results from the manual implementation are compared with those from Scikit-learn to ensure consistency."
   ]
  },
  {
   "cell_type": "markdown",
   "metadata": {},
   "source": [
    "<h4> 1) Library Imports </h4>"
   ]
  },
  {
   "cell_type": "code",
   "execution_count": 56,
   "metadata": {},
   "outputs": [],
   "source": [
    "import numpy as np\n",
    "import pandas as pd\n",
    "import seaborn as sns\n",
    "import matplotlib.pyplot as plt\n",
    "from sklearn.model_selection import train_test_split\n",
    "from sklearn.metrics import (accuracy_score, classification_report, confusion_matrix)"
   ]
  },
  {
   "cell_type": "markdown",
   "metadata": {},
   "source": [
    "<h4> 2) Data Cleaning and Text Preprocessing </h4>\n",
    "\n",
    "We have used the Regex and LughaatNLP libraries to clean and preprocess Urdu text. \n",
    "This includes:\n",
    "- removes URLs\n",
    "- removes punctuation\n",
    "- removes non-alphanumeric characters\n",
    "- normalizes the text \n",
    "- eliminates stopwords \n",
    "- corrects spelling \n",
    "- tokenizes the text into words\n",
    "- joins the tokens back into a processed string\n",
    "\n",
    "After that we import our clean dataset"
   ]
  },
  {
   "cell_type": "code",
   "execution_count": 57,
   "metadata": {},
   "outputs": [
    {
     "name": "stdout",
     "output_type": "stream",
     "text": [
      "(2749, 3)\n"
     ]
    },
    {
     "data": {
      "text/html": [
       "<div>\n",
       "<style scoped>\n",
       "    .dataframe tbody tr th:only-of-type {\n",
       "        vertical-align: middle;\n",
       "    }\n",
       "\n",
       "    .dataframe tbody tr th {\n",
       "        vertical-align: top;\n",
       "    }\n",
       "\n",
       "    .dataframe thead th {\n",
       "        text-align: right;\n",
       "    }\n",
       "</style>\n",
       "<table border=\"1\" class=\"dataframe\">\n",
       "  <thead>\n",
       "    <tr style=\"text-align: right;\">\n",
       "      <th></th>\n",
       "      <th>gold_label</th>\n",
       "      <th>processed_content</th>\n",
       "      <th>processed_title</th>\n",
       "    </tr>\n",
       "  </thead>\n",
       "  <tbody>\n",
       "    <tr>\n",
       "      <th>0</th>\n",
       "      <td>entertainment</td>\n",
       "      <td>مشہور پنجابی گلوکار اداکار بلجیت دوران معلومات...</td>\n",
       "      <td>بھولنا بھی ۳ گانا پرانا بلجیت کارتک دھماکا دار...</td>\n",
       "    </tr>\n",
       "    <tr>\n",
       "      <th>1</th>\n",
       "      <td>entertainment</td>\n",
       "      <td>بلا ووڈ دبنگ خان ممبئی ما شاہ رخ خان پرتعیش رہ...</td>\n",
       "      <td>سلمان خان شاہ رخ خان منت متعلق بڑا انکشاف</td>\n",
       "    </tr>\n",
       "    <tr>\n",
       "      <th>2</th>\n",
       "      <td>entertainment</td>\n",
       "      <td>بھارتی فلم ٹی وی معروف اداکارہ نیٹ فلکس مشہور ...</td>\n",
       "      <td>نیلم کوشیاری غیر متوقع سوال پرانا حیران حاضرین...</td>\n",
       "    </tr>\n",
       "  </tbody>\n",
       "</table>\n",
       "</div>"
      ],
      "text/plain": [
       "      gold_label                                  processed_content  \\\n",
       "0  entertainment  مشہور پنجابی گلوکار اداکار بلجیت دوران معلومات...   \n",
       "1  entertainment  بلا ووڈ دبنگ خان ممبئی ما شاہ رخ خان پرتعیش رہ...   \n",
       "2  entertainment  بھارتی فلم ٹی وی معروف اداکارہ نیٹ فلکس مشہور ...   \n",
       "\n",
       "                                     processed_title  \n",
       "0  بھولنا بھی ۳ گانا پرانا بلجیت کارتک دھماکا دار...  \n",
       "1          سلمان خان شاہ رخ خان منت متعلق بڑا انکشاف  \n",
       "2  نیلم کوشیاری غیر متوقع سوال پرانا حیران حاضرین...  "
      ]
     },
     "execution_count": 57,
     "metadata": {},
     "output_type": "execute_result"
    }
   ],
   "source": [
    "df = pd.read_csv(\"scraped_data.csv\")\n",
    "print(df.shape)\n",
    "df.head(3)"
   ]
  },
  {
   "cell_type": "markdown",
   "metadata": {},
   "source": [
    "<h4> 3) Data Splitting </h4>\n",
    "\n",
    "- This part involves extracting the `gold_label` column from the dataframe to form the labels data.\n",
    "- It also involves using Scikit-Learn's `train_test_split` function to split the data into Training, Validation, and Testing datasets"
   ]
  },
  {
   "cell_type": "code",
   "execution_count": 58,
   "metadata": {},
   "outputs": [
    {
     "name": "stdout",
     "output_type": "stream",
     "text": [
      "Training dataset shape: (1924, 2), (1924,)\n",
      "Validation dataset shape: (275, 2), (275,)\n",
      "Test dataset shape: (550, 2), (550,)\n"
     ]
    }
   ],
   "source": [
    "X = df.drop('gold_label', axis=1)  \n",
    "y = df['gold_label'] \n",
    "\n",
    "train_size = 0.7\n",
    "validation_size = 0.10\n",
    "test_size = 0.20\n",
    "\n",
    "X_train_validation, X_test, y_train_validation, y_test = train_test_split(X, y, test_size= test_size, random_state= 42)\n",
    "X_train, X_validation, y_train, y_validation = train_test_split(X_train_validation, y_train_validation, test_size= (validation_size / (train_size + validation_size)), random_state= 42)\n",
    "\n",
    "print(f\"Training dataset shape: {X_train.shape}, {y_train.shape}\")\n",
    "print(f\"Validation dataset shape: {X_validation.shape}, {y_validation.shape}\")\n",
    "print(f\"Test dataset shape: {X_test.shape}, {y_test.shape}\")"
   ]
  },
  {
   "cell_type": "markdown",
   "metadata": {},
   "source": [
    "<h4> 4) Label Encoding and Vectorization </h4>\n",
    "\n",
    "- Here, we convert the categorical labels into numeric format using a custom class, MyLabelEncoder\n",
    "- Then, we convert text into numerical features using another custom class, MyCountVectorizer with a vocabulary of the 1,000 most frequent words."
   ]
  },
  {
   "cell_type": "code",
   "execution_count": 59,
   "metadata": {},
   "outputs": [],
   "source": [
    "class MyLabelEncoder:\n",
    "    def __init__(self):\n",
    "        self.classes_ = None\n",
    "        self.class_to_index = {}\n",
    "        self.index_to_class = {}\n",
    "\n",
    "    def fit(self, labels):\n",
    "        self.classes_ = sorted(set(labels))\n",
    "        self.class_to_index = {cls: idx for idx, cls in enumerate(self.classes_)}\n",
    "        self.index_to_class = {idx: cls for cls, idx in self.class_to_index.items()}\n",
    "        return self\n",
    "\n",
    "    def transform(self, labels):\n",
    "        transformed_labels = []\n",
    "        for label in labels:\n",
    "            index = self.class_to_index[label]\n",
    "            transformed_labels.append(index)\n",
    "        return transformed_labels\n",
    "\n",
    "    def inverse_transform(self, indices):\n",
    "        original_labels = []\n",
    "        for index in indices:\n",
    "            label = self.index_to_class[index]\n",
    "            original_labels.append(label)\n",
    "        return original_labels\n",
    "\n",
    "    def fit_transform(self, labels):\n",
    "        self.fit(labels)\n",
    "        return self.transform(labels)\n",
    "\n",
    "label_encoder = MyLabelEncoder()\n",
    "\n",
    "y_train_encoded = label_encoder.fit_transform(y_train)\n",
    "y_validation_encoded = label_encoder.transform(y_validation)\n",
    "y_test_encoded = label_encoder.transform(y_test)\n"
   ]
  },
  {
   "cell_type": "code",
   "execution_count": 60,
   "metadata": {},
   "outputs": [],
   "source": [
    "X_train_features = X_train['processed_content'].values\n",
    "X_validation_features = X_validation['processed_content'].values\n",
    "X_test_features = X_test['processed_content'].values\n",
    "\n",
    "\n",
    "class MyCountVectorizer:\n",
    "    def __init__(self, max_features=None):\n",
    "        self.max_features = max_features\n",
    "        self.vocabulary_ = None\n",
    "\n",
    "    def fit(self, documents):\n",
    "        word_counts = {}\n",
    "        for doc in documents:\n",
    "            words = doc.split() \n",
    "            for word in words:\n",
    "                if word in word_counts:\n",
    "                    word_counts[word] += 1\n",
    "                else:\n",
    "                    word_counts[word] = 1\n",
    "        \n",
    "        sorted_word_counts = sorted(word_counts.items(), key=lambda x: x[1], reverse=True)\n",
    "        most_common_words = sorted_word_counts[:self.max_features]\n",
    "        self.vocabulary_ = {word: idx for idx, (word, _) in enumerate(most_common_words)}\n",
    "        return self\n",
    "\n",
    "    def transform(self, documents):\n",
    "        vectors = []\n",
    "        for doc in documents:\n",
    "            words = doc.split()  \n",
    "            vector = np.zeros(len(self.vocabulary_), dtype=int)\n",
    "            for word in words:\n",
    "                if word in self.vocabulary_:\n",
    "                    vector[self.vocabulary_[word]] += 1\n",
    "            vectors.append(vector)\n",
    "        return np.array(vectors)\n",
    "\n",
    "    def fit_transform(self, documents):\n",
    "        self.fit(documents)\n",
    "        return self.transform(documents)\n",
    "\n",
    "custom_vectorizer = MyCountVectorizer(max_features=1000)\n",
    "X_train_vectors = custom_vectorizer.fit_transform(X_train_features)\n",
    "X_validation_vectors = custom_vectorizer.transform(X_validation_features)\n",
    "X_test_vectors = custom_vectorizer.transform(X_test_features)"
   ]
  },
  {
   "cell_type": "markdown",
   "metadata": {},
   "source": [
    "### <h4> 5) Implementation of MultiClass Logistic Regression Class from Scratch </h4>\n",
    "\n",
    "- **Softmax:** Applies softmax for multi-class probability distribution.\n",
    "- **Fit:** Trains model using gradient descent with one-hot encoding for labels.\n",
    "- **Predict:** Outputs class labels based on the highest softmax probability."
   ]
  },
  {
   "cell_type": "code",
   "execution_count": 61,
   "metadata": {},
   "outputs": [],
   "source": [
    "class MultiClassLogisticRegression:\n",
    "    def __init__(self, learning_rate, epochs, num_classes=None):\n",
    "        self.learning_rate = learning_rate\n",
    "        self.epochs = epochs\n",
    "        self.num_classes = num_classes\n",
    "        self.weights = None\n",
    "        self.bias = None\n",
    "\n",
    "    @staticmethod\n",
    "    def softmax(z):\n",
    "        exp_z = np.exp(z - np.max(z, axis=1, keepdims=True)) \n",
    "        return exp_z / np.sum(exp_z, axis=1, keepdims=True)\n",
    "\n",
    "    def fit(self, X, y):\n",
    "        n_samples, n_features = X.shape\n",
    "        if self.num_classes is None:\n",
    "            self.num_classes = len(np.unique(y))\n",
    "\n",
    "        self.weights = np.zeros((n_features, self.num_classes))\n",
    "        self.bias = np.zeros(self.num_classes)\n",
    "\n",
    "        y_one_hot = np.zeros((n_samples, self.num_classes))\n",
    "        y_one_hot[np.arange(n_samples), y] = 1\n",
    "\n",
    "        for i in range(self.epochs):\n",
    "            linear_model = np.dot(X, self.weights) + self.bias\n",
    "            predictions = self.softmax(linear_model)\n",
    "\n",
    "            dw = (1 / n_samples) * np.dot(X.T, (predictions - y_one_hot))\n",
    "            db = (1 / n_samples) * np.sum(predictions - y_one_hot, axis=0)\n",
    "\n",
    "            self.weights -= self.learning_rate * dw\n",
    "            self.bias -= self.learning_rate * db\n",
    "\n",
    "    def predict(self, X):\n",
    "        linear_model = np.dot(X, self.weights) + self.bias\n",
    "        predictions = self.softmax(linear_model)\n",
    "        return np.argmax(predictions, axis=1)"
   ]
  },
  {
   "cell_type": "markdown",
   "metadata": {},
   "source": [
    "<h4> 6) Evaluation Metrics </h4>\n",
    "\n",
    "Below we have defined a function that will assess the performance using the following evaluation metrics:\n",
    "- Accuracy\n",
    "- Class-wise Precision\n",
    "- Class-wise Recall\n",
    "- Macro F1 Score\n",
    "- Confusion Matrix\n",
    "\n",
    "\n"
   ]
  },
  {
   "cell_type": "code",
   "execution_count": 62,
   "metadata": {},
   "outputs": [],
   "source": [
    "def make_heat_map(confusion_matrix, title):\n",
    "  plt.figure(figsize=(12, 6))\n",
    "  sns.heatmap(confusion_matrix, fmt=\"d\", annot= True, cmap= \"Blues\", cbar= True)\n",
    "  plt.title(title)\n",
    "  plt.xlabel(\"True Label\")\n",
    "  plt.ylabel(\"Predicted Label\")\n",
    "  plt.show()\n",
    "    \n",
    "def evaluate(y_true, y_pred, target_names):\n",
    "    accuracy = accuracy_score(y_true, y_pred)\n",
    "    print(f\"Accuracy: {accuracy * 100:.2f}%\\n\")\n",
    "    print(\"Classification Report:\")\n",
    "    print(classification_report(y_true, y_pred, target_names=target_names))\n",
    "    cm = confusion_matrix(y_true, y_pred)\n",
    "    make_heat_map(cm, \"Confusion Matrix\")"
   ]
  },
  {
   "cell_type": "markdown",
   "metadata": {},
   "source": [
    "<h4> 7) Training the model </h4>\n",
    "\n",
    "Here we train our model, MultiClassLogisticRegression on the training dataset:"
   ]
  },
  {
   "cell_type": "code",
   "execution_count": 63,
   "metadata": {},
   "outputs": [],
   "source": [
    "model = MultiClassLogisticRegression(learning_rate=0.01, epochs=10000)\n",
    "model.fit(X_train_vectors, y_train_encoded)"
   ]
  },
  {
   "cell_type": "markdown",
   "metadata": {},
   "source": [
    "<h4> 8) Testing on the Validation Dataset </h4>\n",
    "\n",
    "Here, we test our model on the validation dataset and assess its performance using the evaluate metrics:\n"
   ]
  },
  {
   "cell_type": "code",
   "execution_count": 64,
   "metadata": {},
   "outputs": [
    {
     "name": "stdout",
     "output_type": "stream",
     "text": [
      "Accuracy: 96.73%\n",
      "\n",
      "Classification Report:\n",
      "                    precision    recall  f1-score   support\n",
      "\n",
      "          business       0.98      0.96      0.97        46\n",
      "     entertainment       0.97      0.97      0.97        61\n",
      "science-technology       1.00      0.92      0.96        37\n",
      "            sports       0.98      1.00      0.99        60\n",
      "             world       0.93      0.97      0.95        71\n",
      "\n",
      "          accuracy                           0.97       275\n",
      "         macro avg       0.97      0.96      0.97       275\n",
      "      weighted avg       0.97      0.97      0.97       275\n",
      "\n"
     ]
    },
    {
     "data": {
      "image/png": "[encoded data removed]",
      "text/plain": [
       "<Figure size 1200x600 with 2 Axes>"
      ]
     },
     "metadata": {},
     "output_type": "display_data"
    }
   ],
   "source": [
    "y_predicted_validation = model.predict(X_validation_vectors)\n",
    "evaluate(y_validation_encoded, y_predicted_validation, label_encoder.classes_)"
   ]
  },
  {
   "cell_type": "markdown",
   "metadata": {},
   "source": [
    "<h4> 9) Testing on the Test Dataset </h4>\n",
    "\n",
    "Here, we test our model on the test dataset and assess its performance using the metrics mentioned above."
   ]
  },
  {
   "cell_type": "code",
   "execution_count": 65,
   "metadata": {},
   "outputs": [
    {
     "name": "stdout",
     "output_type": "stream",
     "text": [
      "Accuracy: 95.27%\n",
      "\n",
      "Classification Report:\n",
      "                    precision    recall  f1-score   support\n",
      "\n",
      "          business       0.98      0.97      0.97       117\n",
      "     entertainment       0.98      0.94      0.96       131\n",
      "science-technology       0.91      0.95      0.93        64\n",
      "            sports       0.98      0.98      0.98       121\n",
      "             world       0.89      0.93      0.91       117\n",
      "\n",
      "          accuracy                           0.95       550\n",
      "         macro avg       0.95      0.95      0.95       550\n",
      "      weighted avg       0.95      0.95      0.95       550\n",
      "\n"
     ]
    },
    {
     "data": {
      "image/png": "[encoded data removed]",
      "text/plain": [
       "<Figure size 1200x600 with 2 Axes>"
      ]
     },
     "metadata": {},
     "output_type": "display_data"
    }
   ],
   "source": [
    "y_predicted_test = model.predict(X_test_vectors)\n",
    "evaluate(y_test_encoded, y_predicted_test, label_encoder.classes_)"
   ]
  },
  {
   "cell_type": "markdown",
   "metadata": {},
   "source": [
    "<h4> 10) Implementing the Logistic Regression Machine Learning Model using Scikit-Learn </h4>\n",
    "\n",
    "Here we simply implement the Naive Bayes model using the Scikit-Learn library to compare the performance of our own model with that of the standard Scikit-Learn one."
   ]
  },
  {
   "cell_type": "code",
   "execution_count": 66,
   "metadata": {},
   "outputs": [
    {
     "name": "stderr",
     "output_type": "stream",
     "text": [
      "/opt/anaconda3/envs/ML_env/lib/python3.12/site-packages/sklearn/linear_model/_logistic.py:1247: FutureWarning: 'multi_class' was deprecated in version 1.5 and will be removed in 1.7. From then on, it will always use 'multinomial'. Leave it to its default value to avoid this warning.\n",
      "  warnings.warn(\n"
     ]
    },
    {
     "name": "stdout",
     "output_type": "stream",
     "text": [
      "Sklearn Logistic Regression Accuracy for validation data set: 96.73%\n",
      "Manual Logistic Regression Accuracy for validation data set: 96.73% \n",
      "\n",
      "Sklearn Logistic Regression Accuracy for test data set: 94.55%\n",
      "Manual Logistic Regression Accuracy for test data set: 95.27%\n"
     ]
    }
   ],
   "source": [
    "from sklearn.linear_model import LogisticRegression\n",
    "\n",
    "sklearn_log_reg = LogisticRegression(multi_class='multinomial', solver='lbfgs', max_iter=1000, random_state=42)\n",
    "sklearn_log_reg.fit(X_train_vectors, y_train_encoded)\n",
    "\n",
    "y_validation_predicted_sklearn_log_reg = sklearn_log_reg.predict(X_validation_vectors)\n",
    "y_test_predicted_sklearn_log_reg = sklearn_log_reg.predict(X_test_vectors)\n",
    "\n",
    "sklearn_accuracy_validation_log_reg = accuracy_score(y_validation_encoded, y_validation_predicted_sklearn_log_reg)\n",
    "sklearn_accuracy_test_log_reg = accuracy_score(y_test_encoded, y_test_predicted_sklearn_log_reg)\n",
    "\n",
    "manual_accuracy_validation_log_reg = accuracy_score(y_validation_encoded, y_predicted_validation)\n",
    "manual_accuracy_test_log_reg = accuracy_score(y_test_encoded, y_predicted_test)\n",
    "\n",
    "print(f\"Sklearn Logistic Regression Accuracy for validation data set: {sklearn_accuracy_validation_log_reg * 100:.2f}%\")\n",
    "print(f\"Manual Logistic Regression Accuracy for validation data set: {manual_accuracy_validation_log_reg * 100:.2f}% \\n\")\n",
    "print(f\"Sklearn Logistic Regression Accuracy for test data set: {sklearn_accuracy_test_log_reg * 100:.2f}%\")\n",
    "print(f\"Manual Logistic Regression Accuracy for test data set: {manual_accuracy_test_log_reg * 100:.2f}%\")"
   ]
  }
 ],
 "metadata": {
  "kernelspec": {
   "display_name": "Python 3",
   "language": "python",
   "name": "python3"
  },
  "language_info": {
   "codemirror_mode": {
    "name": "ipython",
    "version": 3
   },
   "file_extension": ".py",
   "mimetype": "text/x-python",
   "name": "python",
   "nbconvert_exporter": "python",
   "pygments_lexer": "ipython3",
   "version": "3.12.7"
  }
 },
 "nbformat": 4,
 "nbformat_minor": 2
}
