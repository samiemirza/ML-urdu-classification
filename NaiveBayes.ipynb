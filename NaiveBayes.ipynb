{
 "cells": [
  {
   "cell_type": "markdown",
   "metadata": {},
   "source": [
    "<h1> <strong> <center> Model 1: Multinomial Naive Bayes Classification </center> </strong>  </h1> \n",
    "\n",
    "Our first model classifies a dataset of Urdu-language text articles using both a manual implementation of Multinomial Naive Bayes (MNB) and Scikit-learn's MNB model. The dataset is split into training, validation, and test sets, and the models are trained and evaluated on these. Metrics like accuracy, precision, recall, F1 score, and confusion matrices are calculated to assess performance. The results from the manual MNB implementation are compared with those from Scikit-learn to ensure consistency."
   ]
  },
  {
   "cell_type": "markdown",
   "metadata": {},
   "source": [
    "<h4> 1) Library Imports </h4>"
   ]
  },
  {
   "cell_type": "code",
   "execution_count": 27,
   "metadata": {},
   "outputs": [],
   "source": [
    "import numpy as np\n",
    "import pandas as pd\n",
    "import seaborn as sns\n",
    "import matplotlib.pyplot as plt\n",
    "from sklearn.model_selection import train_test_split\n",
    "from sklearn.naive_bayes import MultinomialNB\n",
    "from sklearn.metrics import (accuracy_score, classification_report, confusion_matrix, roc_auc_score, roc_curve)"
   ]
  },
  {
   "cell_type": "code",
   "execution_count": 28,
   "metadata": {},
   "outputs": [
    {
     "data": {
      "text/html": [
       "<div>\n",
       "<style scoped>\n",
       "    .dataframe tbody tr th:only-of-type {\n",
       "        vertical-align: middle;\n",
       "    }\n",
       "\n",
       "    .dataframe tbody tr th {\n",
       "        vertical-align: top;\n",
       "    }\n",
       "\n",
       "    .dataframe thead th {\n",
       "        text-align: right;\n",
       "    }\n",
       "</style>\n",
       "<table border=\"1\" class=\"dataframe\">\n",
       "  <thead>\n",
       "    <tr style=\"text-align: right;\">\n",
       "      <th></th>\n",
       "      <th>gold_label</th>\n",
       "      <th>processed_content</th>\n",
       "      <th>processed_title</th>\n",
       "    </tr>\n",
       "  </thead>\n",
       "  <tbody>\n",
       "    <tr>\n",
       "      <th>0</th>\n",
       "      <td>entertainment</td>\n",
       "      <td>مشہور پنجابی گلوکار اداکار بلجیت دوران معلومات...</td>\n",
       "      <td>بھولنا بھی ۳ گانا پرانا بلجیت کارتک دھماکا دار...</td>\n",
       "    </tr>\n",
       "    <tr>\n",
       "      <th>1</th>\n",
       "      <td>entertainment</td>\n",
       "      <td>بلا ووڈ دبنگ خان ممبئی ما شاہ رخ خان پرتعیش رہ...</td>\n",
       "      <td>سلمان خان شاہ رخ خان منت متعلق بڑا انکشاف</td>\n",
       "    </tr>\n",
       "    <tr>\n",
       "      <th>2</th>\n",
       "      <td>entertainment</td>\n",
       "      <td>بھارتی فلم ٹی وی معروف اداکارہ نیٹ فلکس مشہور ...</td>\n",
       "      <td>نیلم کوشیاری غیر متوقع سوال پرانا حیران حاضرین...</td>\n",
       "    </tr>\n",
       "    <tr>\n",
       "      <th>3</th>\n",
       "      <td>entertainment</td>\n",
       "      <td>شہرت بلندی چھونا بلا ووڈ اداکار پربھاری تنا بڑ...</td>\n",
       "      <td>اداکار پربھاری فلم انڈسٹری بڑا معاہدہ کرلیا</td>\n",
       "    </tr>\n",
       "    <tr>\n",
       "      <th>4</th>\n",
       "      <td>entertainment</td>\n",
       "      <td>مشہور بھارتی سیریز ترک مہت الٹنا چشمہ سیٹ پران...</td>\n",
       "      <td>ترک مہت سیٹ پرانا جھگڑا دلیپ جوشی شہ چھوڑنا دھمکی</td>\n",
       "    </tr>\n",
       "  </tbody>\n",
       "</table>\n",
       "</div>"
      ],
      "text/plain": [
       "      gold_label                                  processed_content  \\\n",
       "0  entertainment  مشہور پنجابی گلوکار اداکار بلجیت دوران معلومات...   \n",
       "1  entertainment  بلا ووڈ دبنگ خان ممبئی ما شاہ رخ خان پرتعیش رہ...   \n",
       "2  entertainment  بھارتی فلم ٹی وی معروف اداکارہ نیٹ فلکس مشہور ...   \n",
       "3  entertainment  شہرت بلندی چھونا بلا ووڈ اداکار پربھاری تنا بڑ...   \n",
       "4  entertainment  مشہور بھارتی سیریز ترک مہت الٹنا چشمہ سیٹ پران...   \n",
       "\n",
       "                                     processed_title  \n",
       "0  بھولنا بھی ۳ گانا پرانا بلجیت کارتک دھماکا دار...  \n",
       "1          سلمان خان شاہ رخ خان منت متعلق بڑا انکشاف  \n",
       "2  نیلم کوشیاری غیر متوقع سوال پرانا حیران حاضرین...  \n",
       "3        اداکار پربھاری فلم انڈسٹری بڑا معاہدہ کرلیا  \n",
       "4  ترک مہت سیٹ پرانا جھگڑا دلیپ جوشی شہ چھوڑنا دھمکی  "
      ]
     },
     "execution_count": 28,
     "metadata": {},
     "output_type": "execute_result"
    }
   ],
   "source": [
    "df = pd.read_csv('scraped_data.csv')\n",
    "df.head()"
   ]
  },
  {
   "cell_type": "markdown",
   "metadata": {},
   "source": [
    "<h4> 2) Data Splitting </h4>\n",
    "\n",
    "- This part involves extracting the `gold_label` column from the dataframe to form the labels data.\n",
    "- It also involves using Scikit-Learn's `train_test_split` function to split the data into Training, Validation, and Testing datasets"
   ]
  },
  {
   "cell_type": "code",
   "execution_count": 29,
   "metadata": {},
   "outputs": [
    {
     "name": "stdout",
     "output_type": "stream",
     "text": [
      "Training dataset shape: (1924, 2), (1924,)\n",
      "Validation dataset shape: (275, 2), (275,)\n",
      "Test dataset shape: (550, 2), (550,)\n"
     ]
    }
   ],
   "source": [
    "X = df.drop('gold_label', axis=1)  \n",
    "y = df['gold_label'] \n",
    "\n",
    "train_size = 0.7\n",
    "validation_size = 0.10\n",
    "test_size = 0.20\n",
    "\n",
    "X_train_validation, X_test, y_train_validation, y_test = train_test_split(X, y, test_size= test_size, random_state= 42, stratify= y)\n",
    "X_train, X_validation, y_train, y_validation = train_test_split(X_train_validation, y_train_validation, test_size= (validation_size / (train_size + validation_size)), random_state= 42, stratify= y_train_validation)\n",
    "\n",
    "print(f\"Training dataset shape: {X_train.shape}, {y_train.shape}\")\n",
    "print(f\"Validation dataset shape: {X_validation.shape}, {y_validation.shape}\")\n",
    "print(f\"Test dataset shape: {X_test.shape}, {y_test.shape}\")"
   ]
  },
  {
   "cell_type": "markdown",
   "metadata": {},
   "source": [
    "<h4> 3) Vectorizing the Data/Text </h4>\n",
    "\n",
    "Now that we have completed the preprocessing of our data, we will need to vectorize our sentences - this is necessary to be able to numericalize our inputs before feeding them into our model. \n",
    "\n",
    "We will be using the `Bag of Words` approach to vectorize our sentences, which we implemented in PA1_1. <br> \n",
    "Here, we create a `BagOfWords` class to vectorize our sentences. This will involve creating\n",
    "\n",
    "1. A vocabulary from our corpus\n",
    "\n",
    "2. A mapping from words to indices in our vocabulary\n",
    "\n",
    "3. A function to vectorize a sentence in the fashion described above"
   ]
  },
  {
   "cell_type": "code",
   "execution_count": 30,
   "metadata": {},
   "outputs": [],
   "source": [
    "class BagOfWords:\n",
    "    def __init__(self):\n",
    "        self.vocabulary = {}\n",
    "    \n",
    "    def fit(self, texts):\n",
    "        for text in texts:\n",
    "            for word in text.split():\n",
    "                if word not in self.vocabulary:\n",
    "                    self.vocabulary[word] = len(self.vocabulary)\n",
    "    \n",
    "    def vectorize(self, text):\n",
    "        vector = np.zeros(len(self.vocabulary), dtype=int) \n",
    "        for word in text.split():\n",
    "            if word in self.vocabulary:\n",
    "                vector[self.vocabulary[word]] += 1\n",
    "        return vector"
   ]
  },
  {
   "cell_type": "code",
   "execution_count": 31,
   "metadata": {},
   "outputs": [],
   "source": [
    "bow = BagOfWords()\n",
    "bow.fit(X_train['processed_content'])\n",
    "\n",
    "train_data_vectors = np.array([bow.vectorize(text) for text in X_train['processed_content']])\n",
    "validation_data_vectors = np.array([bow.vectorize(text) for text in X_validation['processed_content']])\n",
    "test_data_vectors = np.array([bow.vectorize(text) for text in X_test['processed_content']])"
   ]
  },
  {
   "cell_type": "markdown",
   "metadata": {},
   "source": [
    "<h4> 4) Implementing the Naive Bayes Machine Learning Model from Scratch </h4>\n",
    "\n",
    "Now, we implement a manual version of the Multinomial Naive Bayes (MNB) classifier using two functions. \n",
    "\n",
    "1. **`train_MNB` Function**: Computes the class priors and likelihoods for each word in the dataset. It uses Laplace smoothing to handle unseen words and calculates the probabilities based on word frequencies in the training data for each class.\n",
    "   \n",
    "2. **`MNB_classifier` Function**: Uses the computed priors and likelihoods to classify new data. It calculates the log probabilities of each class for a given input and assigns the class with the highest probability."
   ]
  },
  {
   "cell_type": "code",
   "execution_count": 32,
   "metadata": {},
   "outputs": [],
   "source": [
    "import numpy as np\n",
    "\n",
    "def train_MNB(X, y):\n",
    "    \"\"\"\n",
    "    Train a Multinomial Naive Bayes model.\n",
    "    \"\"\"\n",
    "    classes, counts = np.unique(y, return_counts=True)\n",
    "    num_classes = len(classes)\n",
    "    priors = counts / len(y)\n",
    "    num_features = X.shape[1]\n",
    "    likelihoods = np.zeros((num_classes, num_features))\n",
    "\n",
    "    for i, class_label in enumerate(classes):\n",
    "        X_class = X[y == class_label]\n",
    "        word_count = X_class.sum(axis=0)\n",
    "        likelihoods[i, :] = (word_count + 1) / (word_count.sum() + num_features)  # Laplace smoothing\n",
    "\n",
    "    likelihoods += 1e-10  # To avoid numerical stability issues\n",
    "    return priors, likelihoods, classes\n",
    "\n",
    "def MNB_classifier(X, class_priors, likelihoods, classes):\n",
    "    \"\"\"\n",
    "    Predict labels for given data using a trained MNB model.\n",
    "    \"\"\"\n",
    "    log_probabilities = np.zeros((X.shape[0], len(classes)))\n",
    "\n",
    "    for i in range(len(classes)):\n",
    "        log_prior = np.log(class_priors[i])\n",
    "        log_likelihood = np.log(likelihoods[i, :])\n",
    "        log_probabilities[:, i] = log_prior + np.dot(X, log_likelihood)\n",
    "\n",
    "    return classes[np.argmax(log_probabilities, axis=1)]\n",
    "\n",
    "def bootstrap_sample(X, y):\n",
    "    \"\"\"\n",
    "    Generate a bootstrap sample from X and y.\n",
    "    \"\"\"\n",
    "    n_samples = X.shape[0]\n",
    "    indices = np.random.randint(0, n_samples, n_samples)\n",
    "    return X.iloc[indices] if isinstance(X, pd.DataFrame) else X[indices], y.iloc[indices] if isinstance(y, pd.Series) else y[indices]\n",
    "\n",
    "def train_bagging_naive_bayes(X, y, n_estimators=10):\n",
    "    \"\"\"\n",
    "    Train a bagging ensemble of Naive Bayes models.\n",
    "    \"\"\"\n",
    "    models = []\n",
    "    for _ in range(n_estimators):\n",
    "        X_sample, y_sample = bootstrap_sample(X, y)\n",
    "        priors, likelihoods, classes = train_MNB(X_sample, y_sample)\n",
    "        models.append((priors, likelihoods))\n",
    "    return models, classes\n",
    "\n",
    "def predict_bagging_naive_bayes(X, models, classes):\n",
    "    \"\"\"\n",
    "    Predict labels using a bagging ensemble of Naive Bayes models.\n",
    "    \"\"\"\n",
    "    n_classes = len(classes)\n",
    "    predictions = np.zeros((X.shape[0], n_classes))\n",
    "\n",
    "    for priors, likelihoods in models:\n",
    "        model_predictions = MNB_classifier(X, priors, likelihoods, classes)\n",
    "        for i, class_label in enumerate(model_predictions):\n",
    "            class_index = np.where(classes == class_label)[0][0] \n",
    "            predictions[i, class_index] += 1\n",
    "\n",
    "    return classes[np.argmax(predictions, axis=1)]\n"
   ]
  },
  {
   "cell_type": "markdown",
   "metadata": {},
   "source": [
    "<h4> 5) Testing on the Validation Dataset </h4>\n",
    "\n",
    "Here, we test our model on the validation dataset and assess its performance using the following metrics:\n",
    "- Accuracy\n",
    "- Class-wise Precision\n",
    "- Class-wise Recall\n",
    "- Macro F1 Score\n",
    "- Confusion Matrix"
   ]
  },
  {
   "cell_type": "code",
   "execution_count": 33,
   "metadata": {},
   "outputs": [],
   "source": [
    "# class_priors, likelihoods, classes = train_MNB(train_data_vectors, y_train.values)\n",
    "# validation_predictions = np.array(MNB_classifier(validation_data_vectors, class_priors, likelihoods, classes))\n",
    "# validation_actual = y_validation.values\n",
    "\n",
    "n_estimators = 1000\n",
    "bagging_models, bagging_classes = train_bagging_naive_bayes(train_data_vectors, y_train, n_estimators)"
   ]
  },
  {
   "cell_type": "code",
   "execution_count": 34,
   "metadata": {},
   "outputs": [],
   "source": [
    "def make_heat_map(confusion_matrix, title):\n",
    "  plt.figure(figsize=(12, 6))\n",
    "  sns.heatmap(confusion_matrix, fmt=\"d\", annot= True, cmap= \"Blues\", cbar= True)\n",
    "  plt.title(title)\n",
    "  plt.xlabel(\"True Label\")\n",
    "  plt.ylabel(\"Predicted Label\")\n",
    "  plt.show()\n",
    "\n",
    "def evaluate(y_actual, y_predicted, class_labels):\n",
    "    accuracy = accuracy_score(y_actual, y_predicted)\n",
    "    print(f\"Accuracy: {accuracy * 100:.2f}%\\n\")\n",
    "    \n",
    "    print(\"Classification Report:\")\n",
    "    print(classification_report(y_actual, y_predicted, target_names=list(map(str, class_labels))))\n",
    "    \n",
    "    cm = confusion_matrix(y_actual, y_predicted, labels=class_labels)\n",
    "    make_heat_map(cm, \"Confusion Matrix\")\n"
   ]
  },
  {
   "cell_type": "code",
   "execution_count": 35,
   "metadata": {},
   "outputs": [
    {
     "name": "stdout",
     "output_type": "stream",
     "text": [
      "Accuracy: 95.64%\n",
      "\n",
      "Classification Report:\n",
      "                    precision    recall  f1-score   support\n",
      "\n",
      "          business       1.00      0.96      0.98        54\n",
      "     entertainment       0.94      1.00      0.97        61\n",
      "science-technology       0.94      0.91      0.93        34\n",
      "            sports       0.98      0.98      0.98        63\n",
      "             world       0.92      0.90      0.91        63\n",
      "\n",
      "          accuracy                           0.96       275\n",
      "         macro avg       0.96      0.95      0.95       275\n",
      "      weighted avg       0.96      0.96      0.96       275\n",
      "\n"
     ]
    },
    {
     "data": {
      "image/png": "[encoded data removed]",
      "text/plain": [
       "<Figure size 1200x600 with 2 Axes>"
      ]
     },
     "metadata": {},
     "output_type": "display_data"
    }
   ],
   "source": [
    "bagging_validation_predictions = predict_bagging_naive_bayes(validation_data_vectors, bagging_models, bagging_classes)\n",
    "evaluate(y_validation, bagging_validation_predictions, bagging_classes)"
   ]
  },
  {
   "cell_type": "markdown",
   "metadata": {},
   "source": [
    "<h4> 6) Testing on the Test Dataset </h4>\n",
    "\n",
    "Here, we test our model on the test dataset and assess its performance using the metrics mentioned above."
   ]
  },
  {
   "cell_type": "code",
   "execution_count": 36,
   "metadata": {},
   "outputs": [],
   "source": [
    "# class_priors, likelihoods, classes = train_MNB(train_data_vectors, y_train.values)\n",
    "# test_predictions = np.array(MNB_classifier(test_data_vectors, class_priors, likelihoods, classes))\n",
    "# test_actual = y_test.values"
   ]
  },
  {
   "cell_type": "code",
   "execution_count": 37,
   "metadata": {},
   "outputs": [
    {
     "name": "stdout",
     "output_type": "stream",
     "text": [
      "Accuracy: 96.55%\n",
      "\n",
      "Classification Report:\n",
      "                    precision    recall  f1-score   support\n",
      "\n",
      "          business       0.98      0.97      0.98       108\n",
      "     entertainment       0.98      0.98      0.98       121\n",
      "science-technology       0.94      0.94      0.94        69\n",
      "            sports       0.99      0.98      0.99       127\n",
      "             world       0.93      0.94      0.94       125\n",
      "\n",
      "          accuracy                           0.97       550\n",
      "         macro avg       0.96      0.96      0.96       550\n",
      "      weighted avg       0.97      0.97      0.97       550\n",
      "\n"
     ]
    },
    {
     "data": {
      "image/png": "[encoded data removed]",
      "text/plain": [
       "<Figure size 1200x600 with 2 Axes>"
      ]
     },
     "metadata": {},
     "output_type": "display_data"
    }
   ],
   "source": [
    "bagging_test_predictions = predict_bagging_naive_bayes(test_data_vectors, bagging_models, bagging_classes)\n",
    "evaluate(y_test, bagging_test_predictions, bagging_classes)"
   ]
  },
  {
   "cell_type": "markdown",
   "metadata": {},
   "source": [
    "<h4> 7) Implementing the Naive Bayes Machine Learning Model using Scikit-Learn </h4>\n",
    "\n",
    "Here we simply implement the Naive Bayes model using the Scikit-Learn library to compare the performance of our own model with that of the standard Scikit-Learn one."
   ]
  },
  {
   "cell_type": "code",
   "execution_count": 38,
   "metadata": {},
   "outputs": [
    {
     "name": "stdout",
     "output_type": "stream",
     "text": [
      "Sklearn Multinomial Naive Bayes Accuracy for validation data set: 95.64%\n",
      "Manual Multinomial Naive Bayes Accuracy for validation data set: 95.64% \n",
      "\n",
      "Sklearn Multinomial Naive Bayes Accuracy for test data set: 96.73%\n",
      "Manual Multinomial Naive Bayes Accuracy for test data set: 96.55%\n"
     ]
    }
   ],
   "source": [
    "mnb = MultinomialNB()\n",
    "mnb.fit(train_data_vectors, y_train)\n",
    "\n",
    "y_validation_predicted_sklearn_MNB = mnb.predict(validation_data_vectors) \n",
    "y_test_predicted_sklearn_MNB = mnb.predict(test_data_vectors) \n",
    "\n",
    "sklearn_accuracy_validation = accuracy_score(y_validation, y_validation_predicted_sklearn_MNB) \n",
    "sklearn_accuracy_test = accuracy_score(y_test, y_test_predicted_sklearn_MNB)  \n",
    "manual_accuracy_validation = accuracy_score(y_validation, bagging_validation_predictions)  \n",
    "manual_accuracy_test = accuracy_score(y_test, bagging_test_predictions)  \n",
    "\n",
    "print(f\"Sklearn Multinomial Naive Bayes Accuracy for validation data set: {sklearn_accuracy_validation * 100:.2f}%\")\n",
    "print(f\"Manual Multinomial Naive Bayes Accuracy for validation data set: {manual_accuracy_validation * 100:.2f}% \\n\")\n",
    "print(f\"Sklearn Multinomial Naive Bayes Accuracy for test data set: {sklearn_accuracy_test * 100:.2f}%\")\n",
    "print(f\"Manual Multinomial Naive Bayes Accuracy for test data set: {manual_accuracy_test * 100:.2f}%\")"
   ]
  }
 ],
 "metadata": {
  "kernelspec": {
   "display_name": "AI_env",
   "language": "python",
   "name": "python3"
  },
  "language_info": {
   "codemirror_mode": {
    "name": "ipython",
    "version": 3
   },
   "file_extension": ".py",
   "mimetype": "text/x-python",
   "name": "python",
   "nbconvert_exporter": "python",
   "pygments_lexer": "ipython3",
   "version": "3.12.7"
  }
 },
 "nbformat": 4,
 "nbformat_minor": 2
}
