{
 "cells": [
  {
   "cell_type": "markdown",
   "metadata": {},
   "source": [
    "<h1> <strong> <center> Text Preprocessing </center> </strong>  </h1> \n"
   ]
  },
  {
   "cell_type": "markdown",
   "metadata": {},
   "source": [
    "<h4> 1) Library Imports </h4>"
   ]
  },
  {
   "cell_type": "code",
   "execution_count": 11,
   "metadata": {},
   "outputs": [],
   "source": [
    "import numpy as np\n",
    "import regex as re\n",
    "import pandas as pd\n",
    "import seaborn as sns\n",
    "import matplotlib.pyplot as plt\n",
    "import keras\n",
    "from LughaatNLP import LughaatNLP\n",
    "import tensorflow as tf"
   ]
  },
  {
   "cell_type": "markdown",
   "metadata": {},
   "source": [
    "<h4> 2) Data Cleaning </h4>\n",
    "Involves: <br>\n",
    "- Analyzing which columns are irrelevant and dropping them <br>\n",
    "- Identifying any rows that have null values and dropping them <br>\n",
    "- Identifying any duplicate rows and dropping all of them except the first"
   ]
  },
  {
   "cell_type": "code",
   "execution_count": 12,
   "metadata": {},
   "outputs": [
    {
     "name": "stdout",
     "output_type": "stream",
     "text": [
      "(3409, 5)\n"
     ]
    },
    {
     "data": {
      "text/html": [
       "<div>\n",
       "<style scoped>\n",
       "    .dataframe tbody tr th:only-of-type {\n",
       "        vertical-align: middle;\n",
       "    }\n",
       "\n",
       "    .dataframe tbody tr th {\n",
       "        vertical-align: top;\n",
       "    }\n",
       "\n",
       "    .dataframe thead th {\n",
       "        text-align: right;\n",
       "    }\n",
       "</style>\n",
       "<table border=\"1\" class=\"dataframe\">\n",
       "  <thead>\n",
       "    <tr style=\"text-align: right;\">\n",
       "      <th></th>\n",
       "      <th>id</th>\n",
       "      <th>title</th>\n",
       "      <th>link</th>\n",
       "      <th>content</th>\n",
       "      <th>gold_label</th>\n",
       "    </tr>\n",
       "  </thead>\n",
       "  <tbody>\n",
       "    <tr>\n",
       "      <th>0</th>\n",
       "      <td>0.0</td>\n",
       "      <td>بھول بھلیاں 3 کے گانے پر دلجیت اور کارتک کا دھ...</td>\n",
       "      <td>https://www.express.pk/story/2733762/bb3-ke-so...</td>\n",
       "      <td>مشہور پنجابی گلوکار اور اداکار دلجیت دوسانجھ ن...</td>\n",
       "      <td>entertainment</td>\n",
       "    </tr>\n",
       "    <tr>\n",
       "      <th>1</th>\n",
       "      <td>0.0</td>\n",
       "      <td>سلمان خان کا شاہ رخ خان کے ’منت‘ سے متعلق بڑا ...</td>\n",
       "      <td>https://www.express.pk/story/2732327/salman-kh...</td>\n",
       "      <td>بالی ووڈ کے دبنگ خان نے ممبئی میں موجود شاہ رخ...</td>\n",
       "      <td>entertainment</td>\n",
       "    </tr>\n",
       "    <tr>\n",
       "      <th>2</th>\n",
       "      <td>0.0</td>\n",
       "      <td>نیلم کوٹھاری غیر متوقع سوال پر حیران، حاضرین ک...</td>\n",
       "      <td>https://jang.com.pk/news/1418564</td>\n",
       "      <td>بھارتی فلم اور ٹی وی کی معروف اداکارہ اور نیٹ ...</td>\n",
       "      <td>entertainment</td>\n",
       "    </tr>\n",
       "  </tbody>\n",
       "</table>\n",
       "</div>"
      ],
      "text/plain": [
       "    id                                              title  \\\n",
       "0  0.0  بھول بھلیاں 3 کے گانے پر دلجیت اور کارتک کا دھ...   \n",
       "1  0.0  سلمان خان کا شاہ رخ خان کے ’منت‘ سے متعلق بڑا ...   \n",
       "2  0.0  نیلم کوٹھاری غیر متوقع سوال پر حیران، حاضرین ک...   \n",
       "\n",
       "                                                link  \\\n",
       "0  https://www.express.pk/story/2733762/bb3-ke-so...   \n",
       "1  https://www.express.pk/story/2732327/salman-kh...   \n",
       "2                   https://jang.com.pk/news/1418564   \n",
       "\n",
       "                                             content     gold_label  \n",
       "0  مشہور پنجابی گلوکار اور اداکار دلجیت دوسانجھ ن...  entertainment  \n",
       "1  بالی ووڈ کے دبنگ خان نے ممبئی میں موجود شاہ رخ...  entertainment  \n",
       "2  بھارتی فلم اور ٹی وی کی معروف اداکارہ اور نیٹ ...  entertainment  "
      ]
     },
     "execution_count": 12,
     "metadata": {},
     "output_type": "execute_result"
    }
   ],
   "source": [
    "df = pd.read_csv(\"raw_data.csv\")\n",
    "print(df.shape)\n",
    "df.head(3)"
   ]
  },
  {
   "cell_type": "code",
   "execution_count": 13,
   "metadata": {},
   "outputs": [
    {
     "name": "stdout",
     "output_type": "stream",
     "text": [
      "Index(['title', 'content', 'gold_label'], dtype='object')\n"
     ]
    }
   ],
   "source": [
    "df.drop(['id', 'link'], axis=1, inplace=True)\n",
    "print(df.columns)"
   ]
  },
  {
   "cell_type": "code",
   "execution_count": 14,
   "metadata": {},
   "outputs": [
    {
     "name": "stdout",
     "output_type": "stream",
     "text": [
      "Null values per column:\n",
      " title          0\n",
      "content       57\n",
      "gold_label     0\n",
      "dtype: int64\n",
      "\n",
      "Total number of null values in the dataset: 57\n"
     ]
    }
   ],
   "source": [
    "null_values_per_column = df.isnull().sum()\n",
    "print(\"Null values per column:\\n\", null_values_per_column)\n",
    "\n",
    "numOfNullVals = null_values_per_column.sum()\n",
    "print(\"\\nTotal number of null values in the dataset:\", numOfNullVals)"
   ]
  },
  {
   "cell_type": "code",
   "execution_count": 15,
   "metadata": {},
   "outputs": [
    {
     "name": "stdout",
     "output_type": "stream",
     "text": [
      "(3352, 3)\n"
     ]
    }
   ],
   "source": [
    "df.dropna(inplace=True)\n",
    "remaining_nulls = df.isnull().sum().sum()\n",
    "print(df.shape)"
   ]
  },
  {
   "cell_type": "code",
   "execution_count": 16,
   "metadata": {},
   "outputs": [
    {
     "name": "stdout",
     "output_type": "stream",
     "text": [
      "Original DataFrame:  (3352, 3)\n",
      "DataFrame after dropping duplicates:  (2749, 3)\n",
      "Number of rows dropped:  603\n"
     ]
    }
   ],
   "source": [
    "df_unique = df.drop_duplicates(subset='content', keep='first')\n",
    "print(\"Original DataFrame: \", df.shape)\n",
    "print(\"DataFrame after dropping duplicates: \", df_unique.shape)\n",
    "print(\"Number of rows dropped: \", df.shape[0] - df_unique.shape[0])"
   ]
  },
  {
   "cell_type": "markdown",
   "metadata": {},
   "source": [
    "<h4> 3) Text Preprocessing </h4>\n",
    "\n",
    "Here, we define a function `preprocess_dataset` that uses the Regex and LughaatNLP libraries to clean and preprocess Urdu text. \n",
    "The function:\n",
    "- removes URLs\n",
    "- removes punctuation\n",
    "- removes non-alphanumeric characters\n",
    "- normalizes the text \n",
    "- eliminates stopwords \n",
    "- corrects spelling \n",
    "- tokenizes the text into words\n",
    "- joins the tokens back into a processed string"
   ]
  },
  {
   "cell_type": "code",
   "execution_count": 17,
   "metadata": {},
   "outputs": [],
   "source": [
    "text_processer = LughaatNLP()\n",
    "\n",
    "def preprocess_dataset(text):\n",
    "    text = re.sub(r\"http\\S+|www\\S+|https\\S+\", \"\", text, flags=re.MULTILINE)\n",
    "    urdu_punctuation = r\"[،۔؛؟!\\\"'،ٔ]+\"\n",
    "    text = re.sub(urdu_punctuation, \"\", text)\n",
    "    text = re.sub(r\"[^\\w\\s]\", \"\", text)\n",
    "    text = re.sub(r\"\\s+\", \" \", text).strip()\n",
    "\n",
    "    text = text_processer.normalize(text)\n",
    "    text = text_processer.lemmatize_sentence(text)\n",
    "    text = text_processer.urdu_stemmer(text)\n",
    "    text = text_processer.remove_stopwords(text)\n",
    "    text = text_processer.corrected_sentence_spelling(text, 1)\n",
    "    tokens = text_processer.urdu_tokenize(text)\n",
    "    preprocessed_text = \" \".join(tokens)\n",
    "    return preprocessed_text"
   ]
  },
  {
   "cell_type": "code",
   "execution_count": 18,
   "metadata": {},
   "outputs": [
    {
     "name": "stdout",
     "output_type": "stream",
     "text": [
      "Starting text preprocessing for the entire dataset: \n"
     ]
    },
    {
     "name": "stderr",
     "output_type": "stream",
     "text": [
      "/var/folders/5l/z_f8vl_56236dtty6zj589g00000gn/T/ipykernel_17784/3280235356.py:2: SettingWithCopyWarning: \n",
      "A value is trying to be set on a copy of a slice from a DataFrame.\n",
      "Try using .loc[row_indexer,col_indexer] = value instead\n",
      "\n",
      "See the caveats in the documentation: https://pandas.pydata.org/pandas-docs/stable/user_guide/indexing.html#returning-a-view-versus-a-copy\n",
      "  df_unique['processed_content'] = df_unique['content'].apply(preprocess_dataset)\n"
     ]
    }
   ],
   "source": [
    "print(\"Starting text preprocessing for the entire dataset: \")\n",
    "df_unique['processed_content'] = df_unique['content'].apply(preprocess_dataset)"
   ]
  },
  {
   "cell_type": "code",
   "execution_count": 19,
   "metadata": {},
   "outputs": [
    {
     "name": "stdout",
     "output_type": "stream",
     "text": [
      "Starting text preprocessing for the entire dataset: \n"
     ]
    },
    {
     "name": "stderr",
     "output_type": "stream",
     "text": [
      "/var/folders/5l/z_f8vl_56236dtty6zj589g00000gn/T/ipykernel_17784/469712843.py:2: SettingWithCopyWarning: \n",
      "A value is trying to be set on a copy of a slice from a DataFrame.\n",
      "Try using .loc[row_indexer,col_indexer] = value instead\n",
      "\n",
      "See the caveats in the documentation: https://pandas.pydata.org/pandas-docs/stable/user_guide/indexing.html#returning-a-view-versus-a-copy\n",
      "  df_unique['processed_title'] = df_unique['title'].apply(preprocess_dataset)\n"
     ]
    }
   ],
   "source": [
    "print(\"Starting text preprocessing for the entire dataset: \")\n",
    "df_unique['processed_title'] = df_unique['title'].apply(preprocess_dataset)"
   ]
  },
  {
   "cell_type": "code",
   "execution_count": 20,
   "metadata": {},
   "outputs": [
    {
     "data": {
      "text/plain": [
       "Index(['title', 'content', 'gold_label', 'processed_content',\n",
       "       'processed_title'],\n",
       "      dtype='object')"
      ]
     },
     "execution_count": 20,
     "metadata": {},
     "output_type": "execute_result"
    }
   ],
   "source": [
    "df_unique.columns"
   ]
  },
  {
   "cell_type": "code",
   "execution_count": 22,
   "metadata": {},
   "outputs": [
    {
     "name": "stderr",
     "output_type": "stream",
     "text": [
      "/var/folders/5l/z_f8vl_56236dtty6zj589g00000gn/T/ipykernel_17784/694321472.py:1: SettingWithCopyWarning: \n",
      "A value is trying to be set on a copy of a slice from a DataFrame\n",
      "\n",
      "See the caveats in the documentation: https://pandas.pydata.org/pandas-docs/stable/user_guide/indexing.html#returning-a-view-versus-a-copy\n",
      "  df_unique.drop(['content'], axis=1, inplace=True)\n",
      "/var/folders/5l/z_f8vl_56236dtty6zj589g00000gn/T/ipykernel_17784/694321472.py:2: SettingWithCopyWarning: \n",
      "A value is trying to be set on a copy of a slice from a DataFrame\n",
      "\n",
      "See the caveats in the documentation: https://pandas.pydata.org/pandas-docs/stable/user_guide/indexing.html#returning-a-view-versus-a-copy\n",
      "  df_unique.drop(['title'], axis=1, inplace=True)\n"
     ]
    },
    {
     "data": {
      "text/plain": [
       "Index(['gold_label', 'processed_content', 'processed_title'], dtype='object')"
      ]
     },
     "execution_count": 22,
     "metadata": {},
     "output_type": "execute_result"
    }
   ],
   "source": [
    "df_unique.drop(['content'], axis=1, inplace=True)\n",
    "df_unique.drop(['title'], axis=1, inplace=True)\n",
    "df_unique.columns"
   ]
  },
  {
   "cell_type": "code",
   "execution_count": 24,
   "metadata": {},
   "outputs": [
    {
     "name": "stdout",
     "output_type": "stream",
     "text": [
      "DataFrames saved as CSV files.\n"
     ]
    }
   ],
   "source": [
    "df_unique.to_csv('scraped_content.csv', index=False)\n",
    "print(\"DataFrames saved as CSV files.\")"
   ]
  }
 ],
 "metadata": {
  "kernelspec": {
   "display_name": "ML_env",
   "language": "python",
   "name": "python3"
  },
  "language_info": {
   "codemirror_mode": {
    "name": "ipython",
    "version": 3
   },
   "file_extension": ".py",
   "mimetype": "text/x-python",
   "name": "python",
   "nbconvert_exporter": "python",
   "pygments_lexer": "ipython3",
   "version": "3.12.7"
  }
 },
 "nbformat": 4,
 "nbformat_minor": 2
}
